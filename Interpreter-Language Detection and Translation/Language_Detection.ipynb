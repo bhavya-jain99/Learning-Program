{
 "cells": [
  {
   "cell_type": "code",
   "execution_count": null,
   "id": "017d9c82",
   "metadata": {},
   "outputs": [],
   "source": [
    "!pip install langdetect"
   ]
  },
  {
   "cell_type": "code",
   "execution_count": null,
   "id": "3e3ada8c",
   "metadata": {},
   "outputs": [],
   "source": [
    "!pip3 install googletrans==3.1.0a0"
   ]
  },
  {
   "cell_type": "code",
   "execution_count": 3,
   "id": "25a9576d",
   "metadata": {},
   "outputs": [
    {
     "name": "stdout",
     "output_type": "stream",
     "text": [
      "Enter any text in any language: Jeg elsker England\n",
      "[no:0.9999969233117793]\n",
      " \n",
      "Jeg elsker England (da) --> I love England (en)\n"
     ]
    }
   ],
   "source": [
    "from langdetect import detect_langs\n",
    "from googletrans import Translator, constants\n",
    "from pprint import pprint\n",
    "text = input(\"Enter any text in any language: \")\n",
    "print(detect_langs(text))\n",
    "print(' ')\n",
    "translator = Translator()\n",
    "translation = translator.translate(text)\n",
    "print(f\"{translation.origin} ({translation.src}) --> {translation.text} ({translation.dest})\")"
   ]
  },
  {
   "cell_type": "code",
   "execution_count": null,
   "id": "239831aa",
   "metadata": {},
   "outputs": [],
   "source": []
  }
 ],
 "metadata": {
  "kernelspec": {
   "display_name": "Python 3",
   "language": "python",
   "name": "python3"
  },
  "language_info": {
   "codemirror_mode": {
    "name": "ipython",
    "version": 3
   },
   "file_extension": ".py",
   "mimetype": "text/x-python",
   "name": "python",
   "nbconvert_exporter": "python",
   "pygments_lexer": "ipython3",
   "version": "3.9.6"
  }
 },
 "nbformat": 4,
 "nbformat_minor": 5
}
